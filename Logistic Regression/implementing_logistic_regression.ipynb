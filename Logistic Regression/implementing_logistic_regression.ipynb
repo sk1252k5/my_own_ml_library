{
  "nbformat": 4,
  "nbformat_minor": 0,
  "metadata": {
    "colab": {
      "provenance": []
    },
    "kernelspec": {
      "name": "python3",
      "display_name": "Python 3"
    },
    "language_info": {
      "name": "python"
    }
  },
  "cells": [
    {
      "cell_type": "code",
      "execution_count": 35,
      "metadata": {
        "colab": {
          "base_uri": "https://localhost:8080/"
        },
        "id": "dFsQRp7-bdPu",
        "outputId": "c174c1d8-0cb1-45a9-d2d9-95fe1602efb1"
      },
      "outputs": [
        {
          "output_type": "stream",
          "name": "stdout",
          "text": [
            "Mean =  [65.64427406 66.22199809]\n",
            "Standard Deviation =  [19.36068671 18.48963567]\n"
          ]
        }
      ],
      "source": [
        "import numpy as np\n",
        "import basic as lgr\n",
        "dat = np.loadtxt(open(\"/content/LogisticRegressionData.txt\"),delimiter=',')\n",
        "x = dat[:,0:-1]\n",
        "y = dat[:,-1:]\n",
        "(a,b)=np.shape(x)\n",
        "dp = lgr.log_reg()\n",
        "x,mean,std = dp.normalize(x)\n",
        "x_train=x[0:7*a//10,:]\n",
        "y_train=y[0:7*a//10,:]\n",
        "x_test=x[7*a//10:a,:]\n",
        "y_test=y[7*a//10:a,:]\n",
        "print(\"Mean = \",mean)\n",
        "print(\"Standard Deviation = \",std)"
      ]
    },
    {
      "cell_type": "code",
      "source": [
        "dp.fit(x_train,y_train)\n",
        "weight,bias=dp. grad_descent(0.5,1000)\n",
        "dp.cost_fn()\n",
        "print(\"weights=\",weight.flatten())\n",
        "print(\"bias=\",bias)\n",
        "print (\"Accuracy of my model:\",dp.accuracy(x_test,y_test),\"%\")"
      ],
      "metadata": {
        "colab": {
          "base_uri": "https://localhost:8080/"
        },
        "id": "yshtX2oEc0Xa",
        "outputId": "98262f7c-7c08-4b0f-92e5-32860cfafa0d"
      },
      "execution_count": 36,
      "outputs": [
        {
          "output_type": "stream",
          "name": "stdout",
          "text": [
            "weights= [3.99874149 3.41475511]\n",
            "bias= [1.20704004]\n",
            "Accuracy of my model: 86.66666666666667 %\n"
          ]
        }
      ]
    },
    {
      "cell_type": "code",
      "source": [
        "from sklearn.linear_model import LogisticRegression\n",
        "mod=LogisticRegression().fit(x_train,y_train)\n",
        "res=mod.predict(x_test).reshape(y_test.shape)\n",
        "acc=np.mean(res==y_test)\n",
        "print(\"Accuracy of sklearn:\",acc*100,\"%\")"
      ],
      "metadata": {
        "colab": {
          "base_uri": "https://localhost:8080/"
        },
        "id": "3V0NwbmB0IIN",
        "outputId": "462e0dd3-a0a1-4bb6-bad3-b4dc86f10609"
      },
      "execution_count": 37,
      "outputs": [
        {
          "output_type": "stream",
          "name": "stdout",
          "text": [
            "Accuracy of sklearn: 86.66666666666667 %\n"
          ]
        },
        {
          "output_type": "stream",
          "name": "stderr",
          "text": [
            "/usr/local/lib/python3.10/dist-packages/sklearn/utils/validation.py:1143: DataConversionWarning: A column-vector y was passed when a 1d array was expected. Please change the shape of y to (n_samples, ), for example using ravel().\n",
            "  y = column_or_1d(y, warn=True)\n"
          ]
        }
      ]
    }
  ]
}