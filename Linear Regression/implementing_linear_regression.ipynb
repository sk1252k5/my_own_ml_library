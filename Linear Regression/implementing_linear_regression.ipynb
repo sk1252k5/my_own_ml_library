{
  "nbformat": 4,
  "nbformat_minor": 0,
  "metadata": {
    "colab": {
      "provenance": []
    },
    "kernelspec": {
      "name": "python3",
      "display_name": "Python 3"
    },
    "language_info": {
      "name": "python"
    }
  },
  "cells": [
    {
      "cell_type": "code",
      "execution_count": 6,
      "metadata": {
        "colab": {
          "base_uri": "https://localhost:8080/"
        },
        "id": "74C7nZmx3ymT",
        "outputId": "f3a7c37d-f9a0-4fb6-be6c-2d0b5f142080"
      },
      "outputs": [
        {
          "output_type": "stream",
          "name": "stdout",
          "text": [
            "Mean =  [2000.68085106    3.17021277]\n",
            "Standard Deviation =  [7.86202619e+02 7.52842809e-01]\n"
          ]
        }
      ],
      "source": [
        "import numpy as np\n",
        "import linear as lr\n",
        "dat = np.loadtxt(open(\"/content/LinearRegressionData.txt\"),delimiter=',')\n",
        "x = dat[:,0:-1]\n",
        "y = dat[:,-1:]\n",
        "(a,b)=np.shape(x)\n",
        "dp = lr.lin_reg()\n",
        "x,mean,std = dp.normalize(x)\n",
        "x_train=x[0:7*a//10,:]\n",
        "y_train=y[0:7*a//10,:]\n",
        "x_test=x[7*a//10:a,:]\n",
        "y_test=y[7*a//10:a,:]\n",
        "print(\"Mean = \",mean)\n",
        "print(\"Standard Deviation = \",std)"
      ]
    },
    {
      "cell_type": "code",
      "source": [
        "dp.fit(x_train,y_train)\n",
        "weight,bias=dp.Gradiant_descent(0.1,1000)\n",
        "print(\"weights=\",weight)\n",
        "print(\"bias=\",bias)\n",
        "print (\"accuracy=\",dp.accuracy(x_test,y_test))"
      ],
      "metadata": {
        "colab": {
          "base_uri": "https://localhost:8080/"
        },
        "id": "8jFEItx04I2l",
        "outputId": "60cef6d4-f35f-47cf-dc3f-6e2e39ecac3e"
      },
      "execution_count": 2,
      "outputs": [
        {
          "output_type": "stream",
          "name": "stdout",
          "text": [
            "weights= [[111256.41852582]\n",
            " [  6856.11225122]]\n",
            "bias= [347266.04636891]\n",
            "accuracy= 93.14253314569345\n"
          ]
        }
      ]
    },
    {
      "cell_type": "code",
      "source": [
        "from sklearn import linear_model\n",
        "ap=linear_model.LinearRegression()\n",
        "ap.fit(x_train,y_train)\n",
        "accuracy=1-abs(np.mean((y_test-ap.predict(x_test))/y_test))\n",
        "accuracy*=100\n",
        "print(\"accuracy with sk_learn=\",accuracy)"
      ],
      "metadata": {
        "colab": {
          "base_uri": "https://localhost:8080/"
        },
        "id": "6aVVkSQe4Swl",
        "outputId": "01960164-3c18-4f38-ac6b-486e72563ed4"
      },
      "execution_count": 3,
      "outputs": [
        {
          "output_type": "stream",
          "name": "stdout",
          "text": [
            "accuracy with sk_learn= 93.14253314569358\n"
          ]
        }
      ]
    }
  ]
}